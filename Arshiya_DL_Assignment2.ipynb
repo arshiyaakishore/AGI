{
  "nbformat": 4,
  "nbformat_minor": 0,
  "metadata": {
    "colab": {
      "provenance": [],
      "authorship_tag": "ABX9TyMUIM4hqBJlDMP6o7Lc+MXN",
      "include_colab_link": true
    },
    "kernelspec": {
      "name": "python3",
      "display_name": "Python 3"
    },
    "language_info": {
      "name": "python"
    }
  },
  "cells": [
    {
      "cell_type": "markdown",
      "metadata": {
        "id": "view-in-github",
        "colab_type": "text"
      },
      "source": [
        "<a href=\"https://colab.research.google.com/github/arshiyaakishore/AGI/blob/main/Arshiya_DL_Assignment2.ipynb\" target=\"_parent\"><img src=\"https://colab.research.google.com/assets/colab-badge.svg\" alt=\"Open In Colab\"/></a>"
      ]
    },
    {
      "cell_type": "code",
      "execution_count": 1,
      "metadata": {
        "id": "z6hfGpYaHazO"
      },
      "outputs": [],
      "source": [
        "# Import necessary libraries\n",
        "import numpy as np\n",
        "from sklearn.datasets import load_iris\n",
        "from sklearn.model_selection import train_test_split\n",
        "from sklearn.preprocessing import StandardScaler"
      ]
    },
    {
      "cell_type": "code",
      "source": [
        "# Load Iris dataset\n",
        "iris = load_iris()\n",
        "X = iris.data[:100, [0, 2]]  # Taking only two features for binary classification (first 100 samples)\n",
        "y = iris.target[:100]        # Only considering classes 0 and 1 for binary classification\n",
        "y = np.where(y == 0, -1, 1)  # Convert labels to -1 and 1\n",
        "\n"
      ],
      "metadata": {
        "id": "TBA6byEgHoEo"
      },
      "execution_count": 2,
      "outputs": []
    },
    {
      "cell_type": "code",
      "source": [
        "# Standardize features for better convergence\n",
        "scaler = StandardScaler()\n",
        "X = scaler.fit_transform(X)\n",
        "\n",
        "# Train-test split\n",
        "X_train, X_test, y_train, y_test = train_test_split(X, y, test_size=0.2, random_state=42)\n",
        "\n"
      ],
      "metadata": {
        "id": "T2acrd27HoG3"
      },
      "execution_count": 3,
      "outputs": []
    },
    {
      "cell_type": "code",
      "source": [
        "# Perceptron class implementation\n",
        "class Perceptron:\n",
        "    def __init__(self, learning_rate=0.01, n_iter=10):\n",
        "        self.learning_rate = learning_rate\n",
        "        self.n_iter = n_iter\n",
        "        self.weights = None\n",
        "        self.bias = None\n",
        "\n",
        "    def fit(self, X, y):\n",
        "        n_samples, n_features = X.shape\n",
        "        self.weights = np.zeros(n_features)\n",
        "        self.bias = 0\n",
        "\n",
        "        # Training the perceptron\n",
        "        for _ in range(self.n_iter):\n",
        "            for idx, x_i in enumerate(X):\n",
        "                linear_output = np.dot(x_i, self.weights) + self.bias\n",
        "                y_pred = np.sign(linear_output)\n",
        "\n",
        "                # Update rule\n",
        "                if y[idx] * y_pred <= 0:\n",
        "                    self.weights += self.learning_rate * y[idx] * x_i\n",
        "                    self.bias += self.learning_rate * y[idx]\n",
        "\n",
        "    def predict(self, X):\n",
        "        linear_output = np.dot(X, self.weights) + self.bias\n",
        "        return np.sign(linear_output)\n",
        "\n"
      ],
      "metadata": {
        "id": "vv4n48vfHoKS"
      },
      "execution_count": 4,
      "outputs": []
    },
    {
      "cell_type": "code",
      "source": [
        "# Create and train the perceptron model\n",
        "perceptron = Perceptron(learning_rate=0.01, n_iter=10)\n",
        "perceptron.fit(X_train, y_train)\n",
        "\n",
        "# Predicting on test data\n",
        "y_pred = perceptron.predict(X_test)\n",
        "\n",
        "# Accuracy calculation\n",
        "accuracy = np.mean(y_pred == y_test) * 100\n",
        "print(f\"Model accuracy: {accuracy:.2f}%\")\n"
      ],
      "metadata": {
        "colab": {
          "base_uri": "https://localhost:8080/"
        },
        "id": "j6zqUQStHyxa",
        "outputId": "b8afda97-b6da-424a-c4b0-59ab8b333053"
      },
      "execution_count": 5,
      "outputs": [
        {
          "output_type": "stream",
          "name": "stdout",
          "text": [
            "Model accuracy: 100.00%\n"
          ]
        }
      ]
    }
  ]
}